{
 "cells": [
  {
   "cell_type": "code",
   "execution_count": 1,
   "metadata": {
    "collapsed": true
   },
   "outputs": [],
   "source": [
    "import pandas as pd \n",
    "import numpy as np"
   ]
  },
  {
   "cell_type": "markdown",
   "metadata": {},
   "source": [
    "### read datasets click,user,order,loan"
   ]
  },
  {
   "cell_type": "code",
   "execution_count": 3,
   "metadata": {},
   "outputs": [
    {
     "name": "stdout",
     "output_type": "stream",
     "text": [
      "(10933016, 4)\n"
     ]
    },
    {
     "data": {
      "text/html": [
       "<div>\n",
       "<style>\n",
       "    .dataframe thead tr:only-child th {\n",
       "        text-align: right;\n",
       "    }\n",
       "\n",
       "    .dataframe thead th {\n",
       "        text-align: left;\n",
       "    }\n",
       "\n",
       "    .dataframe tbody tr th {\n",
       "        vertical-align: top;\n",
       "    }\n",
       "</style>\n",
       "<table border=\"1\" class=\"dataframe\">\n",
       "  <thead>\n",
       "    <tr style=\"text-align: right;\">\n",
       "      <th></th>\n",
       "      <th>uid</th>\n",
       "      <th>click_time</th>\n",
       "      <th>pid</th>\n",
       "      <th>param</th>\n",
       "    </tr>\n",
       "  </thead>\n",
       "  <tbody>\n",
       "    <tr>\n",
       "      <th>0</th>\n",
       "      <td>12177</td>\n",
       "      <td>2016-10-04 12:22:30</td>\n",
       "      <td>1</td>\n",
       "      <td>19</td>\n",
       "    </tr>\n",
       "    <tr>\n",
       "      <th>1</th>\n",
       "      <td>29226</td>\n",
       "      <td>2016-10-04 12:18:42</td>\n",
       "      <td>6</td>\n",
       "      <td>1</td>\n",
       "    </tr>\n",
       "    <tr>\n",
       "      <th>2</th>\n",
       "      <td>37351</td>\n",
       "      <td>2016-10-04 12:18:41</td>\n",
       "      <td>10</td>\n",
       "      <td>16</td>\n",
       "    </tr>\n",
       "    <tr>\n",
       "      <th>3</th>\n",
       "      <td>82053</td>\n",
       "      <td>2016-10-04 12:18:16</td>\n",
       "      <td>1</td>\n",
       "      <td>40</td>\n",
       "    </tr>\n",
       "    <tr>\n",
       "      <th>4</th>\n",
       "      <td>82053</td>\n",
       "      <td>2016-10-04 12:18:46</td>\n",
       "      <td>1</td>\n",
       "      <td>40</td>\n",
       "    </tr>\n",
       "  </tbody>\n",
       "</table>\n",
       "</div>"
      ],
      "text/plain": [
       "     uid           click_time  pid  param\n",
       "0  12177  2016-10-04 12:22:30    1     19\n",
       "1  29226  2016-10-04 12:18:42    6      1\n",
       "2  37351  2016-10-04 12:18:41   10     16\n",
       "3  82053  2016-10-04 12:18:16    1     40\n",
       "4  82053  2016-10-04 12:18:46    1     40"
      ]
     },
     "execution_count": 3,
     "metadata": {},
     "output_type": "execute_result"
    }
   ],
   "source": [
    "df_click=pd.read_csv(\"t_click.csv\")\n",
    "print(df_click.shape)\n",
    "df_click.head()"
   ]
  },
  {
   "cell_type": "code",
   "execution_count": 4,
   "metadata": {},
   "outputs": [
    {
     "name": "stdout",
     "output_type": "stream",
     "text": [
      "(90993, 5)\n"
     ]
    },
    {
     "data": {
      "text/html": [
       "<div>\n",
       "<style>\n",
       "    .dataframe thead tr:only-child th {\n",
       "        text-align: right;\n",
       "    }\n",
       "\n",
       "    .dataframe thead th {\n",
       "        text-align: left;\n",
       "    }\n",
       "\n",
       "    .dataframe tbody tr th {\n",
       "        vertical-align: top;\n",
       "    }\n",
       "</style>\n",
       "<table border=\"1\" class=\"dataframe\">\n",
       "  <thead>\n",
       "    <tr style=\"text-align: right;\">\n",
       "      <th></th>\n",
       "      <th>uid</th>\n",
       "      <th>age</th>\n",
       "      <th>sex</th>\n",
       "      <th>active_date</th>\n",
       "      <th>limit</th>\n",
       "    </tr>\n",
       "  </thead>\n",
       "  <tbody>\n",
       "    <tr>\n",
       "      <th>0</th>\n",
       "      <td>26308</td>\n",
       "      <td>30</td>\n",
       "      <td>1</td>\n",
       "      <td>2016-02-16</td>\n",
       "      <td>5.974677</td>\n",
       "    </tr>\n",
       "    <tr>\n",
       "      <th>1</th>\n",
       "      <td>78209</td>\n",
       "      <td>40</td>\n",
       "      <td>1</td>\n",
       "      <td>2016-02-21</td>\n",
       "      <td>5.292154</td>\n",
       "    </tr>\n",
       "    <tr>\n",
       "      <th>2</th>\n",
       "      <td>51930</td>\n",
       "      <td>35</td>\n",
       "      <td>1</td>\n",
       "      <td>2016-04-19</td>\n",
       "      <td>6.292055</td>\n",
       "    </tr>\n",
       "    <tr>\n",
       "      <th>3</th>\n",
       "      <td>10113</td>\n",
       "      <td>25</td>\n",
       "      <td>1</td>\n",
       "      <td>2016-03-12</td>\n",
       "      <td>6.292055</td>\n",
       "    </tr>\n",
       "    <tr>\n",
       "      <th>4</th>\n",
       "      <td>17067</td>\n",
       "      <td>35</td>\n",
       "      <td>1</td>\n",
       "      <td>2016-02-16</td>\n",
       "      <td>5.974677</td>\n",
       "    </tr>\n",
       "  </tbody>\n",
       "</table>\n",
       "</div>"
      ],
      "text/plain": [
       "     uid  age  sex active_date     limit\n",
       "0  26308   30    1  2016-02-16  5.974677\n",
       "1  78209   40    1  2016-02-21  5.292154\n",
       "2  51930   35    1  2016-04-19  6.292055\n",
       "3  10113   25    1  2016-03-12  6.292055\n",
       "4  17067   35    1  2016-02-16  5.974677"
      ]
     },
     "execution_count": 4,
     "metadata": {},
     "output_type": "execute_result"
    }
   ],
   "source": [
    "df_user=pd.read_csv(\"t_user.csv\")\n",
    "print(df_user.shape)\n",
    "df_user.head()"
   ]
  },
  {
   "cell_type": "code",
   "execution_count": 5,
   "metadata": {},
   "outputs": [
    {
     "name": "stdout",
     "output_type": "stream",
     "text": [
      "(5400778, 6)\n"
     ]
    },
    {
     "data": {
      "text/html": [
       "<div>\n",
       "<style>\n",
       "    .dataframe thead tr:only-child th {\n",
       "        text-align: right;\n",
       "    }\n",
       "\n",
       "    .dataframe thead th {\n",
       "        text-align: left;\n",
       "    }\n",
       "\n",
       "    .dataframe tbody tr th {\n",
       "        vertical-align: top;\n",
       "    }\n",
       "</style>\n",
       "<table border=\"1\" class=\"dataframe\">\n",
       "  <thead>\n",
       "    <tr style=\"text-align: right;\">\n",
       "      <th></th>\n",
       "      <th>uid</th>\n",
       "      <th>buy_time</th>\n",
       "      <th>price</th>\n",
       "      <th>qty</th>\n",
       "      <th>cate_id</th>\n",
       "      <th>discount</th>\n",
       "    </tr>\n",
       "  </thead>\n",
       "  <tbody>\n",
       "    <tr>\n",
       "      <th>0</th>\n",
       "      <td>45370</td>\n",
       "      <td>2016-11-23</td>\n",
       "      <td>3.995009</td>\n",
       "      <td>1</td>\n",
       "      <td>22</td>\n",
       "      <td>0.0</td>\n",
       "    </tr>\n",
       "    <tr>\n",
       "      <th>1</th>\n",
       "      <td>66975</td>\n",
       "      <td>2016-11-23</td>\n",
       "      <td>3.269410</td>\n",
       "      <td>1</td>\n",
       "      <td>26</td>\n",
       "      <td>0.0</td>\n",
       "    </tr>\n",
       "    <tr>\n",
       "      <th>2</th>\n",
       "      <td>75358</td>\n",
       "      <td>2016-11-23</td>\n",
       "      <td>2.255235</td>\n",
       "      <td>1</td>\n",
       "      <td>14</td>\n",
       "      <td>0.0</td>\n",
       "    </tr>\n",
       "    <tr>\n",
       "      <th>3</th>\n",
       "      <td>40597</td>\n",
       "      <td>2016-11-23</td>\n",
       "      <td>1.635284</td>\n",
       "      <td>1</td>\n",
       "      <td>20</td>\n",
       "      <td>0.0</td>\n",
       "    </tr>\n",
       "    <tr>\n",
       "      <th>4</th>\n",
       "      <td>83886</td>\n",
       "      <td>2016-11-23</td>\n",
       "      <td>1.920573</td>\n",
       "      <td>2</td>\n",
       "      <td>22</td>\n",
       "      <td>0.0</td>\n",
       "    </tr>\n",
       "  </tbody>\n",
       "</table>\n",
       "</div>"
      ],
      "text/plain": [
       "     uid    buy_time     price  qty  cate_id  discount\n",
       "0  45370  2016-11-23  3.995009    1       22       0.0\n",
       "1  66975  2016-11-23  3.269410    1       26       0.0\n",
       "2  75358  2016-11-23  2.255235    1       14       0.0\n",
       "3  40597  2016-11-23  1.635284    1       20       0.0\n",
       "4  83886  2016-11-23  1.920573    2       22       0.0"
      ]
     },
     "execution_count": 5,
     "metadata": {},
     "output_type": "execute_result"
    }
   ],
   "source": [
    "df_order=pd.read_csv(\"t_order.csv\")\n",
    "print(df_order.shape)\n",
    "df_order.head()"
   ]
  },
  {
   "cell_type": "code",
   "execution_count": 6,
   "metadata": {},
   "outputs": [
    {
     "name": "stdout",
     "output_type": "stream",
     "text": [
      "(202902, 4)\n"
     ]
    },
    {
     "data": {
      "text/html": [
       "<div>\n",
       "<style>\n",
       "    .dataframe thead tr:only-child th {\n",
       "        text-align: right;\n",
       "    }\n",
       "\n",
       "    .dataframe thead th {\n",
       "        text-align: left;\n",
       "    }\n",
       "\n",
       "    .dataframe tbody tr th {\n",
       "        vertical-align: top;\n",
       "    }\n",
       "</style>\n",
       "<table border=\"1\" class=\"dataframe\">\n",
       "  <thead>\n",
       "    <tr style=\"text-align: right;\">\n",
       "      <th></th>\n",
       "      <th>uid</th>\n",
       "      <th>loan_time</th>\n",
       "      <th>loan_amount</th>\n",
       "      <th>plannum</th>\n",
       "    </tr>\n",
       "  </thead>\n",
       "  <tbody>\n",
       "    <tr>\n",
       "      <th>0</th>\n",
       "      <td>12135</td>\n",
       "      <td>2016-08-03 00:05:26</td>\n",
       "      <td>3.862595</td>\n",
       "      <td>1</td>\n",
       "    </tr>\n",
       "    <tr>\n",
       "      <th>1</th>\n",
       "      <td>41403</td>\n",
       "      <td>2016-08-03 00:13:25</td>\n",
       "      <td>5.584137</td>\n",
       "      <td>3</td>\n",
       "    </tr>\n",
       "    <tr>\n",
       "      <th>2</th>\n",
       "      <td>74458</td>\n",
       "      <td>2016-08-03 00:13:58</td>\n",
       "      <td>4.723017</td>\n",
       "      <td>1</td>\n",
       "    </tr>\n",
       "    <tr>\n",
       "      <th>3</th>\n",
       "      <td>12959</td>\n",
       "      <td>2016-08-03 00:19:33</td>\n",
       "      <td>3.862595</td>\n",
       "      <td>1</td>\n",
       "    </tr>\n",
       "    <tr>\n",
       "      <th>4</th>\n",
       "      <td>89641</td>\n",
       "      <td>2016-08-03 00:23:13</td>\n",
       "      <td>4.292651</td>\n",
       "      <td>1</td>\n",
       "    </tr>\n",
       "  </tbody>\n",
       "</table>\n",
       "</div>"
      ],
      "text/plain": [
       "     uid            loan_time  loan_amount  plannum\n",
       "0  12135  2016-08-03 00:05:26     3.862595        1\n",
       "1  41403  2016-08-03 00:13:25     5.584137        3\n",
       "2  74458  2016-08-03 00:13:58     4.723017        1\n",
       "3  12959  2016-08-03 00:19:33     3.862595        1\n",
       "4  89641  2016-08-03 00:23:13     4.292651        1"
      ]
     },
     "execution_count": 6,
     "metadata": {},
     "output_type": "execute_result"
    }
   ],
   "source": [
    "df_loan=pd.read_csv(\"t_loan.csv\")\n",
    "print(df_loan.shape)\n",
    "df_loan.head()"
   ]
  },
  {
   "cell_type": "markdown",
   "metadata": {},
   "source": [
    "### transform order data"
   ]
  },
  {
   "cell_type": "code",
   "execution_count": 7,
   "metadata": {
    "collapsed": true
   },
   "outputs": [],
   "source": [
    "# combine and drop columns\n",
    "df_order[\"spend\"]=df_order[\"price\"]*df_order[\"qty\"]-df_order[\"discount\"]\n",
    "df_order['buy_time']=pd.to_datetime(df_order[\"buy_time\"])\n",
    "df_order[\"month\"]=df_order[\"buy_time\"].dt.month\n",
    "#df_order=df_order.drop(\"buy_time\",axis=1)"
   ]
  },
  {
   "cell_type": "code",
   "execution_count": 8,
   "metadata": {},
   "outputs": [
    {
     "data": {
      "text/html": [
       "<div>\n",
       "<style>\n",
       "    .dataframe thead tr:only-child th {\n",
       "        text-align: right;\n",
       "    }\n",
       "\n",
       "    .dataframe thead th {\n",
       "        text-align: left;\n",
       "    }\n",
       "\n",
       "    .dataframe tbody tr th {\n",
       "        vertical-align: top;\n",
       "    }\n",
       "</style>\n",
       "<table border=\"1\" class=\"dataframe\">\n",
       "  <thead>\n",
       "    <tr style=\"text-align: right;\">\n",
       "      <th></th>\n",
       "      <th>uid</th>\n",
       "      <th>buy_time</th>\n",
       "      <th>price</th>\n",
       "      <th>qty</th>\n",
       "      <th>cate_id</th>\n",
       "      <th>discount</th>\n",
       "      <th>spend</th>\n",
       "      <th>month</th>\n",
       "    </tr>\n",
       "  </thead>\n",
       "  <tbody>\n",
       "    <tr>\n",
       "      <th>0</th>\n",
       "      <td>45370</td>\n",
       "      <td>2016-11-23</td>\n",
       "      <td>3.995009</td>\n",
       "      <td>1</td>\n",
       "      <td>22</td>\n",
       "      <td>0.0</td>\n",
       "      <td>3.995009</td>\n",
       "      <td>11</td>\n",
       "    </tr>\n",
       "    <tr>\n",
       "      <th>1</th>\n",
       "      <td>66975</td>\n",
       "      <td>2016-11-23</td>\n",
       "      <td>3.269410</td>\n",
       "      <td>1</td>\n",
       "      <td>26</td>\n",
       "      <td>0.0</td>\n",
       "      <td>3.269410</td>\n",
       "      <td>11</td>\n",
       "    </tr>\n",
       "    <tr>\n",
       "      <th>2</th>\n",
       "      <td>75358</td>\n",
       "      <td>2016-11-23</td>\n",
       "      <td>2.255235</td>\n",
       "      <td>1</td>\n",
       "      <td>14</td>\n",
       "      <td>0.0</td>\n",
       "      <td>2.255235</td>\n",
       "      <td>11</td>\n",
       "    </tr>\n",
       "    <tr>\n",
       "      <th>3</th>\n",
       "      <td>40597</td>\n",
       "      <td>2016-11-23</td>\n",
       "      <td>1.635284</td>\n",
       "      <td>1</td>\n",
       "      <td>20</td>\n",
       "      <td>0.0</td>\n",
       "      <td>1.635284</td>\n",
       "      <td>11</td>\n",
       "    </tr>\n",
       "    <tr>\n",
       "      <th>4</th>\n",
       "      <td>83886</td>\n",
       "      <td>2016-11-23</td>\n",
       "      <td>1.920573</td>\n",
       "      <td>2</td>\n",
       "      <td>22</td>\n",
       "      <td>0.0</td>\n",
       "      <td>3.841145</td>\n",
       "      <td>11</td>\n",
       "    </tr>\n",
       "  </tbody>\n",
       "</table>\n",
       "</div>"
      ],
      "text/plain": [
       "     uid   buy_time     price  qty  cate_id  discount     spend  month\n",
       "0  45370 2016-11-23  3.995009    1       22       0.0  3.995009     11\n",
       "1  66975 2016-11-23  3.269410    1       26       0.0  3.269410     11\n",
       "2  75358 2016-11-23  2.255235    1       14       0.0  2.255235     11\n",
       "3  40597 2016-11-23  1.635284    1       20       0.0  1.635284     11\n",
       "4  83886 2016-11-23  1.920573    2       22       0.0  3.841145     11"
      ]
     },
     "execution_count": 8,
     "metadata": {},
     "output_type": "execute_result"
    }
   ],
   "source": [
    "df_order.head()"
   ]
  },
  {
   "cell_type": "code",
   "execution_count": 9,
   "metadata": {
    "collapsed": true
   },
   "outputs": [],
   "source": [
    "savelist_8=[]\n",
    "savelist_9=[]\n",
    "savelist_10=[]\n",
    "savelist_11=[]\n",
    "spendlist_8=[]\n",
    "spendlist_9=[]\n",
    "spendlist_10=[]\n",
    "spendlist_11=[]\n",
    "\n",
    "for i in range(1,90994):\n",
    "    data=df_order[df_order[\"uid\"]==i]\n",
    "    cate_spend_8=[]\n",
    "    cate_spend_9=[]\n",
    "    cate_spend_10=[]\n",
    "    cate_spend_11=[]\n",
    "    save_8=0\n",
    "    save_9=0\n",
    "    save_10=0\n",
    "    save_11=0\n",
    "    for k in range(44):\n",
    "        cate_spend_8.append(0)\n",
    "        cate_spend_9.append(0)\n",
    "        cate_spend_10.append(0)\n",
    "        cate_spend_11.append(0)\n",
    "    #cate_8 8月各category消费金额\n",
    "    for j in range(len(data)):\n",
    "        if data.iloc[j][\"month\"]==8:\n",
    "            cate_spend_8[data.iloc[j][\"cate_id\"]-1]+=data.iloc[j][\"spend\"]\n",
    "            save_8+=data.iloc[j][\"discount\"]\n",
    "        elif data.iloc[j][\"month\"]==9:\n",
    "            cate_spend_9[data.iloc[j][\"cate_id\"]-1]+=data.iloc[j][\"spend\"]\n",
    "            save_9+=data.iloc[j][\"discount\"]\n",
    "        elif data.iloc[j][\"month\"]==10:\n",
    "            cate_spend_10[data.iloc[j][\"cate_id\"]-1]+=data.iloc[j][\"spend\"]\n",
    "            save_10+=data.iloc[j][\"discount\"]\n",
    "        elif data.iloc[j][\"month\"]==11:\n",
    "            cate_spend_11[data.iloc[j][\"cate_id\"]-1]+=data.iloc[j][\"spend\"]\n",
    "            save_11+=data.iloc[j][\"discount\"]\n",
    "    savelist_8.append(save_8)   \n",
    "    savelist_9.append(save_9) \n",
    "    savelist_10.append(save_10) \n",
    "    savelist_11.append(save_11) \n",
    "    spendlist_8.append(cate_spend_8)\n",
    "    spendlist_9.append(cate_spend_9)\n",
    "    spendlist_10.append(cate_spend_10)\n",
    "    spendlist_11.append(cate_spend_11)\n",
    "              "
   ]
  },
  {
   "cell_type": "code",
   "execution_count": null,
   "metadata": {
    "collapsed": true
   },
   "outputs": [],
   "source": [
    "df_8=pd.DataFrame(spendlist_8)\n",
    "df_8.columns=[\"8cat_\"+str(i+1) for i in range(44)]\n",
    "df_9=pd.DataFrame(spendlist_9)\n",
    "df_9.columns=[\"9cat_\"+str(i+1) for i in range(44)]\n",
    "df_10=pd.DataFrame(spendlist_10)\n",
    "df_10.columns=[\"10cat_\"+str(i+1) for i in range(44)]\n",
    "df_11=pd.DataFrame(spendlist_11)\n",
    "df_11.columns=[\"11cat_\"+str(i+1) for i in range(44)]\n",
    "df_order_bycat=pd.concat([df_8,df_9,df_10,df_11],axis=1)\n",
    "df_order_bycat[\"save_8\"]=savelist_8\n",
    "df_order_bycat[\"save_9\"]=savelist_9\n",
    "df_order_bycat[\"save_10\"]=savelist_10\n",
    "df_order_bycat[\"save_11\"]=savelist_11\n",
    "df_order_bycat.to_csv(\"df_order_bycat.csv\",sep=\",\")"
   ]
  },
  {
   "cell_type": "markdown",
   "metadata": {},
   "source": [
    "### transform user and loan data"
   ]
  },
  {
   "cell_type": "code",
   "execution_count": 12,
   "metadata": {
    "collapsed": true
   },
   "outputs": [],
   "source": [
    "# 账户激活时长\n",
    "time_list_11=[]\n",
    "time_list_12=[]\n",
    "for i in range(0,90993):\n",
    "    dt=datetime.strptime(df_user[\"active_date\"][i], '%Y-%m-%d')\n",
    "    time=(2016-dt.year)*12\n",
    "    time=time+(11-dt.month)\n",
    "    time_11=time+(15-dt.day)/30\n",
    "    time_12=time_11+1\n",
    "    time_list_11.append(time_11)\n",
    "    time_list_12.append(time_12)\n",
    "df_user[\"time-11\"]=time_list_11\n",
    "df_user[\"time-12\"]=time_list_12"
   ]
  },
  {
   "cell_type": "code",
   "execution_count": null,
   "metadata": {
    "collapsed": true
   },
   "outputs": [],
   "source": [
    "df_user=df_user.drop(\"active_date\",axis=1)\n",
    "df_user=df_user.set_index(\"uid\")\n",
    "df_user=df_user.sort_index()"
   ]
  },
  {
   "cell_type": "code",
   "execution_count": null,
   "metadata": {
    "collapsed": true
   },
   "outputs": [],
   "source": [
    "df_user.to_csv(\"df_user.csv\", sep=',')"
   ]
  },
  {
   "cell_type": "code",
   "execution_count": null,
   "metadata": {
    "collapsed": true
   },
   "outputs": [],
   "source": [
    "pay_11=[]\n",
    "pay_12=[]  \n",
    "loan_total_8=[]\n",
    "loan_total_9=[]\n",
    "loan_total_10=[]\n",
    "loan_total_11=[]\n",
    "for j in range(1,90994):\n",
    "    data=df_loan[df_loan[\"uid\"]==j]\n",
    "    to_pay_11=0\n",
    "    to_pay_12=0\n",
    "    loan_8=0\n",
    "    loan_9=0\n",
    "    loan_10=0\n",
    "    loan_11=0\n",
    "    for i in range(0,len(data)):\n",
    "        date=data.iloc[i][\"loan_time\"]\n",
    "        dt=datetime.strptime(date, \"%Y-%m-%d %H:%M:%S\")\n",
    "        if dt.month==8:\n",
    "            loan_8+=data.iloc[i][\"loan_amount\"]\n",
    "        elif dt.month==9:\n",
    "            loan_9+=data.iloc[i][\"loan_amount\"]\n",
    "        elif dt.month==10:\n",
    "            loan_10+=data.iloc[i][\"loan_amount\"]\n",
    "        elif dt.month==11:\n",
    "            loan_11+=data.iloc[i][\"loan_amount\"]    \n",
    "\n",
    "        time=11-dt.month\n",
    "        if time<=data.iloc[i][\"plannum\"]:\n",
    "            to_pay_11 += data.iloc[i][\"loan_amount\"]/data.iloc[i][\"plannum\"]\n",
    "        time=12-dt.month\n",
    "        if time<=data.iloc[i][\"plannum\"]:\n",
    "            to_pay_12 += data.iloc[i][\"loan_amount\"]/data.iloc[i][\"plannum\"]\n",
    "    pay_11.append(to_pay_11)\n",
    "    pay_12.append(to_pay_12)\n",
    "    loan_total_8.append(loan_8)\n",
    "    loan_total_9.append(loan_9)\n",
    "    loan_total_10.append(loan_10)\n",
    "    loan_total_11.append(loan_11)\n",
    "df_user[\"pay_11\"]=pay_11\n",
    "df_user[\"pay_12\"]=pay_12\n",
    "df_user[\"loan_8\"]=loan_total_8\n",
    "df_user[\"loan_9\"]=loan_total_9\n",
    "df_user[\"loan_10\"]=loan_total_10\n",
    "df_user[\"loan_11\"]=loan_total_11"
   ]
  },
  {
   "cell_type": "code",
   "execution_count": null,
   "metadata": {
    "collapsed": true
   },
   "outputs": [],
   "source": [
    "df_user.to_csv(\"df_user_loan.csv\", sep=',')"
   ]
  },
  {
   "cell_type": "markdown",
   "metadata": {},
   "source": [
    "### transform click data"
   ]
  },
  {
   "cell_type": "code",
   "execution_count": null,
   "metadata": {
    "collapsed": true
   },
   "outputs": [],
   "source": [
    "click_month=[]\n",
    "click_hour=[]\n",
    "for date in df_click[\"click_time\"]:\n",
    "    dt=datetime.strptime(date, \"%Y-%m-%d %H:%M:%S\")\n",
    "    click_month.append(dt.month)\n",
    "    #set work hours as 1\n",
    "    #set afterwork hours as 2\n",
    "    if dt.hour >= 18 or dt.hour <= 8:\n",
    "        click_hour.append(2)\n",
    "    else:\n",
    "        click_hour.append(1)\n",
    "df_click[\"click_month\"]=click_month\n",
    "df_click[\"click_hour\"]=click_hour"
   ]
  },
  {
   "cell_type": "code",
   "execution_count": null,
   "metadata": {
    "collapsed": true
   },
   "outputs": [],
   "source": [
    "click_afterwrk_id_8={}\n",
    "click_afterwrk_id_9={}\n",
    "click_afterwrk_id_10={}\n",
    "click_afterwrk_id_11={}\n",
    "click_wrk_id_8={}\n",
    "click_wrk_id_9={}\n",
    "click_wrk_id_10={}\n",
    "click_wrk_id_11={}\n",
    "for i in range(1,90994):\n",
    "    click_afterwrk_id_8[i]=0\n",
    "    click_afterwrk_id_9[i]=0\n",
    "    click_afterwrk_id_10[i]=0\n",
    "    click_afterwrk_id_11[i]=0\n",
    "    click_wrk_id_8[i]=0\n",
    "    click_wrk_id_9[i]=0\n",
    "    click_wrk_id_10[i]=0\n",
    "    click_wrk_id_11[i]=0        "
   ]
  },
  {
   "cell_type": "code",
   "execution_count": null,
   "metadata": {
    "collapsed": true
   },
   "outputs": [],
   "source": [
    "for i in range(0,df_click.shape[0]):\n",
    "    if df_click.iloc[i][\"click_month\"]==8:\n",
    "        if df_click.iloc[i][\"click_hour\"]==1:\n",
    "            click_wrk_id_8[df_click.iloc[i][\"uid\"]]+=1\n",
    "        else:\n",
    "            click_afterwrk_id_8[df_click.iloc[i][\"uid\"]]+=1\n",
    "            \n",
    "    else:\n",
    "        if df_click.iloc[i][\"click_month\"]==9:\n",
    "            if df_click.iloc[i][\"click_hour\"]==1:\n",
    "                click_wrk_id_9[df_click.iloc[i][\"uid\"]]+=1\n",
    "            else:\n",
    "                click_afterwrk_id_9[df_click.iloc[i][\"uid\"]]+=1\n",
    "        else:\n",
    "            if df_click.iloc[i][\"click_month\"]==10:\n",
    "                if df_click.iloc[i][\"click_hour\"]==1:\n",
    "                    click_wrk_id_10[df_click.iloc[i][\"uid\"]]+=1\n",
    "                else:\n",
    "                    click_afterwrk_id_10[df_click.iloc[i][\"uid\"]]+=1\n",
    "            else:\n",
    "                if df_click.iloc[i][\"click_month\"]==11:\n",
    "                    if df_click.iloc[i][\"click_hour\"]==1:\n",
    "                        click_wrk_id_11[df_click.iloc[i][\"uid\"]]+=1\n",
    "                    else:\n",
    "                        click_afterwrk_id_11[df_click.iloc[i][\"uid\"]]+=1            "
   ]
  },
  {
   "cell_type": "code",
   "execution_count": null,
   "metadata": {
    "collapsed": true
   },
   "outputs": [],
   "source": [
    "click_wrk_id_8 = pd.Series(click_wrk_id_8)\n",
    "click_wrk_id_9 = pd.Series(click_wrk_id_9)\n",
    "click_wrk_id_10 = pd.Series(click_wrk_id_10)\n",
    "click_wrk_id_11 = pd.Series(click_wrk_id_11)\n",
    "click_afterwrk_id_8 = pd.Series(click_afterwrk_id_8)\n",
    "click_afterwrk_id_9 = pd.Series(click_afterwrk_id_9)\n",
    "click_afterwrk_id_10 = pd.Series(click_afterwrk_id_10)\n",
    "click_afterwrk_id_11 = pd.Series(click_afterwrk_id_11)\n",
    "\n",
    "df_click_wrk_aft = pd.DataFrame(click_wrk_id_8, columns=['click_wrk_8'])\n",
    "df_click_wrk_aft['click_wrk_9'] = click_wrk_id_9\n",
    "df_click_wrk_aft['click_wrk_10'] = click_wrk_id_10\n",
    "df_click_wrk_aft['click_wrk_11'] = click_wrk_id_11\n",
    "df_click_wrk_aft['click_afterwrk_8'] = click_afterwrk_id_8\n",
    "df_click_wrk_aft['click_afterwrk_9'] = click_afterwrk_id_9\n",
    "df_click_wrk_aft['click_afterwrk_10'] = click_afterwrk_id_10\n",
    "df_click_wrk_aft['click_afterwrk_11'] = click_afterwrk_id_11\n",
    "\n",
    "df_click_wrk_aft.to_csv(\"df_click.csv\", sep=',')"
   ]
  },
  {
   "cell_type": "code",
   "execution_count": null,
   "metadata": {
    "collapsed": true
   },
   "outputs": [],
   "source": []
  },
  {
   "cell_type": "markdown",
   "metadata": {},
   "source": [
    "## Model"
   ]
  },
  {
   "cell_type": "markdown",
   "metadata": {},
   "source": [
    "### model 1: NNRegression with all features"
   ]
  },
  {
   "cell_type": "code",
   "execution_count": 127,
   "metadata": {
    "collapsed": true
   },
   "outputs": [],
   "source": [
    "# form the csv used in this model\n",
    "df1=pd.read_csv(\"df_user_loan.csv\")\n",
    "df2=pd.read_csv(\"df_click.csv\")\n",
    "df3=pd.read_csv(\"order_bycat_sum.csv\")"
   ]
  },
  {
   "cell_type": "code",
   "execution_count": 128,
   "metadata": {
    "collapsed": true
   },
   "outputs": [
    {
     "data": {
      "text/plain": [
       "array(['uid', 'age', 'sex', 'limit', 'time-11', 'time-12', 'pay_11',\n",
       "       'pay_12', 'loan_8', 'loan_9', 'loan_10', 'loan_11', 'click_wrk_8',\n",
       "       'click_wrk_9', 'click_wrk_10', 'click_wrk_11', 'click_afterwrk_8',\n",
       "       'click_afterwrk_9', 'click_afterwrk_10', 'click_afterwrk_11',\n",
       "       'Unnamed: 0', 'Unnamed: 0.1', '8cat_1', '8cat_2', '8cat_3',\n",
       "       '8cat_5', '8cat_6', '8cat_7', '8cat_9', '8cat_10', '8cat_11',\n",
       "       '8cat_12', '8cat_13', '8cat_14', '8cat_15', '8cat_16', '8cat_17',\n",
       "       '8cat_18', '8cat_19', '8cat_20', '8cat_21', '8cat_22', '8cat_23',\n",
       "       '8cat_25', '8cat_26', '8cat_28', '8cat_31', '8cat_32', '8cat_33',\n",
       "       '8cat_34', '8cat_35', '8cat_36', '8cat_38', '8cat_39', '8cat_40',\n",
       "       '8cat_43', '8cat_44', '9cat_1', '9cat_2', '9cat_3', '9cat_5',\n",
       "       '9cat_6', '9cat_7', '9cat_9', '9cat_10', '9cat_11', '9cat_12',\n",
       "       '9cat_13', '9cat_14', '9cat_15', '9cat_16', '9cat_17', '9cat_18',\n",
       "       '9cat_19', '9cat_20', '9cat_21', '9cat_22', '9cat_23', '9cat_25',\n",
       "       '9cat_26', '9cat_28', '9cat_31', '9cat_32', '9cat_33', '9cat_34',\n",
       "       '9cat_35', '9cat_36', '9cat_38', '9cat_39', '9cat_40', '9cat_43',\n",
       "       '9cat_44', '10cat_1', '10cat_2', '10cat_3', '10cat_5', '10cat_6',\n",
       "       '10cat_7', '10cat_9', '10cat_10', '10cat_11', '10cat_12',\n",
       "       '10cat_13', '10cat_14', '10cat_15', '10cat_16', '10cat_17',\n",
       "       '10cat_18', '10cat_19', '10cat_20', '10cat_21', '10cat_22',\n",
       "       '10cat_23', '10cat_25', '10cat_26', '10cat_28', '10cat_31',\n",
       "       '10cat_32', '10cat_33', '10cat_34', '10cat_35', '10cat_36',\n",
       "       '10cat_38', '10cat_39', '10cat_40', '10cat_43', '10cat_44',\n",
       "       '11cat_1', '11cat_2', '11cat_3', '11cat_5', '11cat_6', '11cat_7',\n",
       "       '11cat_9', '11cat_10', '11cat_11', '11cat_12', '11cat_13',\n",
       "       '11cat_14', '11cat_15', '11cat_16', '11cat_17', '11cat_18',\n",
       "       '11cat_19', '11cat_20', '11cat_21', '11cat_22', '11cat_23',\n",
       "       '11cat_25', '11cat_26', '11cat_28', '11cat_31', '11cat_32',\n",
       "       '11cat_33', '11cat_34', '11cat_35', '11cat_36', '11cat_38',\n",
       "       '11cat_39', '11cat_40', '11cat_43', '11cat_44', 'save_8', 'save_9',\n",
       "       'save_10', 'save_11', 'cat8_sum', 'cat9_sum', 'cat10_sum',\n",
       "       'cat11_sum'], dtype=object)"
      ]
     },
     "execution_count": 128,
     "metadata": {},
     "output_type": "execute_result"
    }
   ],
   "source": [
    "df=pd.concat([df1,df2,df3],axis=1)\n",
    "df=df.fillna(0)\n",
    "df.columns.values"
   ]
  },
  {
   "cell_type": "code",
   "execution_count": 129,
   "metadata": {
    "collapsed": true
   },
   "outputs": [],
   "source": [
    "train_columns=['uid', 'age', 'sex', 'limit', 'time-11', 'pay_11',\n",
    "      'loan_8', 'loan_9', 'loan_10','click_wrk_8',\n",
    "       'click_wrk_9', 'click_wrk_10', 'click_afterwrk_8',\n",
    "       'click_afterwrk_9', 'click_afterwrk_10', \n",
    "       '8cat_1', '8cat_2', '8cat_3',\n",
    "       '8cat_5', '8cat_6', '8cat_7', '8cat_9', '8cat_10', '8cat_11',\n",
    "       '8cat_12', '8cat_13', '8cat_14', '8cat_15', '8cat_16', '8cat_17',\n",
    "       '8cat_18', '8cat_19', '8cat_20', '8cat_21', '8cat_22', '8cat_23',\n",
    "       '8cat_25', '8cat_26', '8cat_28', '8cat_31', '8cat_32', '8cat_33',\n",
    "       '8cat_34', '8cat_35', '8cat_36', '8cat_38', '8cat_39', '8cat_40',\n",
    "       '8cat_43', '8cat_44', '9cat_1', '9cat_2', '9cat_3', '9cat_5',\n",
    "       '9cat_6', '9cat_7', '9cat_9', '9cat_10', '9cat_11', '9cat_12',\n",
    "       '9cat_13', '9cat_14', '9cat_15', '9cat_16', '9cat_17', '9cat_18',\n",
    "       '9cat_19', '9cat_20', '9cat_21', '9cat_22', '9cat_23', '9cat_25',\n",
    "       '9cat_26', '9cat_28', '9cat_31', '9cat_32', '9cat_33', '9cat_34',\n",
    "       '9cat_35', '9cat_36', '9cat_38', '9cat_39', '9cat_40', '9cat_43',\n",
    "       '9cat_44', '10cat_1', '10cat_2', '10cat_3', '10cat_5', '10cat_6',\n",
    "       '10cat_7', '10cat_9', '10cat_10', '10cat_11', '10cat_12',\n",
    "       '10cat_13', '10cat_14', '10cat_15', '10cat_16', '10cat_17',\n",
    "       '10cat_18', '10cat_19', '10cat_20', '10cat_21', '10cat_22',\n",
    "       '10cat_23', '10cat_25', '10cat_26', '10cat_28', '10cat_31',\n",
    "       '10cat_32', '10cat_33', '10cat_34', '10cat_35', '10cat_36',\n",
    "       '10cat_38', '10cat_39', '10cat_40', '10cat_43', '10cat_44',\n",
    "       'save_8', 'save_9','save_10', 'cat8_sum', 'cat9_sum', 'cat10_sum']\n",
    "test_columns=['uid', 'age', 'sex', 'limit', 'time-12', 'pay_12', 'loan_9', 'loan_10', 'loan_11', \n",
    "       'click_wrk_9', 'click_wrk_10', 'click_wrk_11', 'click_afterwrk_9', 'click_afterwrk_10', 'click_afterwrk_11','9cat_1', '9cat_2', '9cat_3', '9cat_5',\n",
    "       '9cat_6', '9cat_7', '9cat_9', '9cat_10', '9cat_11', '9cat_12',\n",
    "       '9cat_13', '9cat_14', '9cat_15', '9cat_16', '9cat_17', '9cat_18',\n",
    "       '9cat_19', '9cat_20', '9cat_21', '9cat_22', '9cat_23', '9cat_25',\n",
    "       '9cat_26', '9cat_28', '9cat_31', '9cat_32', '9cat_33', '9cat_34',\n",
    "       '9cat_35', '9cat_36', '9cat_38', '9cat_39', '9cat_40', '9cat_43',\n",
    "       '9cat_44', '10cat_1', '10cat_2', '10cat_3', '10cat_5', '10cat_6',\n",
    "       '10cat_7', '10cat_9', '10cat_10', '10cat_11', '10cat_12',\n",
    "       '10cat_13', '10cat_14', '10cat_15', '10cat_16', '10cat_17',\n",
    "       '10cat_18', '10cat_19', '10cat_20', '10cat_21', '10cat_22',\n",
    "       '10cat_23', '10cat_25', '10cat_26', '10cat_28', '10cat_31',\n",
    "       '10cat_32', '10cat_33', '10cat_34', '10cat_35', '10cat_36',\n",
    "       '10cat_38', '10cat_39', '10cat_40', '10cat_43', '10cat_44',\n",
    "       '11cat_1', '11cat_2', '11cat_3', '11cat_5', '11cat_6', '11cat_7',\n",
    "       '11cat_9', '11cat_10', '11cat_11', '11cat_12', '11cat_13',\n",
    "       '11cat_14', '11cat_15', '11cat_16', '11cat_17', '11cat_18',\n",
    "       '11cat_19', '11cat_20', '11cat_21', '11cat_22', '11cat_23',\n",
    "       '11cat_25', '11cat_26', '11cat_28', '11cat_31', '11cat_32',\n",
    "       '11cat_33', '11cat_34', '11cat_35', '11cat_36', '11cat_38',\n",
    "       '11cat_39', '11cat_40', '11cat_43', '11cat_44', 'save_9',\n",
    "       'save_10', 'save_11', 'cat9_sum', 'cat10_sum',\n",
    "       'cat11_sum']"
   ]
  },
  {
   "cell_type": "code",
   "execution_count": 130,
   "metadata": {},
   "outputs": [
    {
     "name": "stdout",
     "output_type": "stream",
     "text": [
      "126\n",
      "126\n"
     ]
    }
   ],
   "source": [
    "print(len(train_columns))\n",
    "print(len(test_columns))"
   ]
  },
  {
   "cell_type": "code",
   "execution_count": 60,
   "metadata": {},
   "outputs": [
    {
     "name": "stdout",
     "output_type": "stream",
     "text": [
      "3.862594545 8.433019093 5.56896173850699\n"
     ]
    }
   ],
   "source": [
    "df_loan_sum=pd.read_csv(\"t_loan_sum.csv\")\n",
    "df_loan_sum=df_loan_sum.sort_values(by=[\"uid\"])\n",
    "print(min(df_loan_sum[\"loan_sum\"]), max(df_loan_sum[\"loan_sum\"]),np.mean(df_loan_sum[\"loan_sum\"]))"
   ]
  },
  {
   "cell_type": "code",
   "execution_count": 6,
   "metadata": {},
   "outputs": [
    {
     "data": {
      "text/plain": [
       "8855"
      ]
     },
     "execution_count": 6,
     "metadata": {},
     "output_type": "execute_result"
    }
   ],
   "source": [
    "ls_wrong=[]\n",
    "for i in range(90993):\n",
    "    if df.iloc[i][\"loan_11\"] > 8.5:\n",
    "        ls_wrong.append(i)\n",
    "len(ls_wrong)"
   ]
  },
  {
   "cell_type": "code",
   "execution_count": 131,
   "metadata": {
    "collapsed": true
   },
   "outputs": [],
   "source": [
    "df_model1=df.drop(df.index[ls_wrong])"
   ]
  },
  {
   "cell_type": "code",
   "execution_count": 140,
   "metadata": {
    "collapsed": true
   },
   "outputs": [],
   "source": [
    "X=df_model1[train_columns]\n",
    "Y=df_model1[\"loan_11\"]\n",
    "X = np.asarray(X)\n",
    "Y = np.asarray(Y)"
   ]
  },
  {
   "cell_type": "code",
   "execution_count": null,
   "metadata": {
    "collapsed": true
   },
   "outputs": [],
   "source": []
  },
  {
   "cell_type": "code",
   "execution_count": 133,
   "metadata": {
    "collapsed": true
   },
   "outputs": [],
   "source": [
    "from keras.models import Sequential\n",
    "from keras.layers import Dense\n",
    "from keras.wrappers.scikit_learn import KerasRegressor\n",
    "from sklearn.model_selection import train_test_split\n",
    "from sklearn.model_selection import cross_val_score\n",
    "from sklearn.model_selection import KFold\n",
    "from sklearn.preprocessing import StandardScaler\n",
    "from sklearn.pipeline import Pipeline"
   ]
  },
  {
   "cell_type": "code",
   "execution_count": 152,
   "metadata": {
    "collapsed": true
   },
   "outputs": [],
   "source": [
    "def model():\n",
    "\t# create model\n",
    "    model = Sequential()\n",
    "    model.add(Dense(126, input_dim=126, kernel_initializer='normal', activation='relu'))\n",
    "    model.add(Dense(64, kernel_initializer='normal', activation='relu'))\n",
    "    model.add(Dense(32,kernel_initializer='normal',activation='relu'))\n",
    "    model.add(Dense(16,kernel_initializer='normal',activation='relu'))\n",
    "    model.add(Dense(1, kernel_initializer='normal'))\n",
    "    # Compile model\n",
    "    model.compile(loss='mean_squared_error', optimizer='adam')\n",
    "    return model"
   ]
  },
  {
   "cell_type": "code",
   "execution_count": 153,
   "metadata": {
    "collapsed": true
   },
   "outputs": [],
   "source": [
    "offset = int(X.shape[0] * 0.9)\n",
    "X_train, Y_train = X[:offset], Y[:offset]\n",
    "X_test, Y_test = X[offset:], Y[offset:]"
   ]
  },
  {
   "cell_type": "code",
   "execution_count": 154,
   "metadata": {},
   "outputs": [
    {
     "name": "stdout",
     "output_type": "stream",
     "text": [
      "MSE: 3.3514\n"
     ]
    }
   ],
   "source": [
    "seed=7\n",
    "np.random.seed(seed)\n",
    "estimator=KerasRegressor(build_fn=model,nb_epoch=100,batch_size=5,verbose=0)\n",
    "estimator.fit(X_train,Y_train)\n",
    "mse = mean_squared_error(Y_test, estimator.predict(X_test))\n",
    "print(\"MSE: %.4f\" % mse)"
   ]
  },
  {
   "cell_type": "code",
   "execution_count": 77,
   "metadata": {
    "collapsed": true
   },
   "outputs": [],
   "source": [
    "empty=pd.read_csv(\"empty.csv\",header=None)\n",
    "X_test = df[test_columns]\n",
    "X_test=np.asarray(X_test)"
   ]
  },
  {
   "cell_type": "code",
   "execution_count": 78,
   "metadata": {
    "collapsed": true
   },
   "outputs": [],
   "source": [
    "loan=estimator.predict(X_test)\n",
    "for i in range(90993):\n",
    "    if loan[i]<0:\n",
    "        loan[i]=0"
   ]
  },
  {
   "cell_type": "code",
   "execution_count": 79,
   "metadata": {
    "collapsed": true
   },
   "outputs": [],
   "source": [
    "empty[\"loan_sum\"]=loan\n",
    "empty.to_csv(\"upload.csv\",sep=\",\")"
   ]
  },
  {
   "cell_type": "code",
   "execution_count": null,
   "metadata": {
    "collapsed": true
   },
   "outputs": [],
   "source": []
  },
  {
   "cell_type": "markdown",
   "metadata": {},
   "source": [
    "### model 2 selected feature"
   ]
  },
  {
   "cell_type": "code",
   "execution_count": 80,
   "metadata": {
    "collapsed": true
   },
   "outputs": [],
   "source": [
    "selected_cat=pd.read_csv(\"select_cat.csv\")"
   ]
  },
  {
   "cell_type": "code",
   "execution_count": 81,
   "metadata": {
    "collapsed": true
   },
   "outputs": [
    {
     "data": {
      "text/plain": [
       "array(['Unnamed: 0', '8cat_1', '8cat_3', '8cat_6', '8cat_7', '8cat_10',\n",
       "       '8cat_11', '8cat_13', '8cat_14', '8cat_15', '8cat_18', '8cat_21',\n",
       "       '8cat_23', '8cat_26', '8cat_33', '8cat_35', '8cat_36', '9cat_1',\n",
       "       '9cat_3', '9cat_6', '9cat_7', '9cat_10', '9cat_11', '9cat_13',\n",
       "       '9cat_14', '9cat_15', '9cat_18', '9cat_21', '9cat_23', '9cat_26',\n",
       "       '9cat_33', '9cat_35', '9cat_36', '10cat_1', '10cat_3', '10cat_6',\n",
       "       '10cat_7', '10cat_10', '10cat_11', '10cat_13', '10cat_14',\n",
       "       '10cat_15', '10cat_18', '10cat_21', '10cat_23', '10cat_26',\n",
       "       '10cat_33', '10cat_35', '10cat_36', '11cat_1', '11cat_3', '11cat_6',\n",
       "       '11cat_7', '11cat_10', '11cat_11', '11cat_13', '11cat_14',\n",
       "       '11cat_15', '11cat_18', '11cat_21', '11cat_23', '11cat_26',\n",
       "       '11cat_33', '11cat_35', '11cat_36', 'save_8', 'save_9', 'save_10',\n",
       "       'save_11'], dtype=object)"
      ]
     },
     "execution_count": 81,
     "metadata": {},
     "output_type": "execute_result"
    }
   ],
   "source": [
    "selected_cat.columns.values"
   ]
  },
  {
   "cell_type": "code",
   "execution_count": 88,
   "metadata": {
    "collapsed": true
   },
   "outputs": [],
   "source": [
    "select_list8=['8cat_1', '8cat_3', '8cat_6', '8cat_7', '8cat_10','8cat_11', '8cat_13', '8cat_14', '8cat_15', '8cat_18', '8cat_21','8cat_23', '8cat_26', '8cat_33', '8cat_35', '8cat_36']\n",
    "select_list9=['9cat_1','9cat_3', '9cat_6', '9cat_7', '9cat_10', '9cat_11', '9cat_13','9cat_14', '9cat_15', '9cat_18', '9cat_21', '9cat_23', '9cat_26','9cat_33', '9cat_35', '9cat_36']\n",
    "select_list10=['10cat_1', '10cat_3', '10cat_6','10cat_7', '10cat_10', '10cat_11', '10cat_13', '10cat_14','10cat_15', '10cat_18', '10cat_21', '10cat_23', '10cat_26','10cat_33', '10cat_35', '10cat_36']\n",
    "select_list11=['11cat_1', '11cat_3', '11cat_6','11cat_7', '11cat_10', '11cat_11', '11cat_13', '11cat_14','11cat_15', '11cat_18', '11cat_21', '11cat_23', '11cat_26','11cat_33', '11cat_35', '11cat_36']"
   ]
  },
  {
   "cell_type": "code",
   "execution_count": 86,
   "metadata": {
    "collapsed": true
   },
   "outputs": [],
   "source": [
    "list_8=[\"8cat_\"+str(i+1) for i in range(44)]\n",
    "list_9=[\"9cat_\"+str(i+1) for i in range(44)]\n",
    "list_10=[\"10cat_\"+str(i+1) for i in range(44)]\n",
    "list_11=[\"11cat_\"+str(i+1) for i in range(44)]"
   ]
  },
  {
   "cell_type": "code",
   "execution_count": 82,
   "metadata": {
    "collapsed": true
   },
   "outputs": [],
   "source": [
    "order_bycat=pd.read_csv(\"df_order_bycat.csv\")"
   ]
  },
  {
   "cell_type": "code",
   "execution_count": 83,
   "metadata": {},
   "outputs": [
    {
     "data": {
      "text/html": [
       "<div>\n",
       "<style>\n",
       "    .dataframe thead tr:only-child th {\n",
       "        text-align: right;\n",
       "    }\n",
       "\n",
       "    .dataframe thead th {\n",
       "        text-align: left;\n",
       "    }\n",
       "\n",
       "    .dataframe tbody tr th {\n",
       "        vertical-align: top;\n",
       "    }\n",
       "</style>\n",
       "<table border=\"1\" class=\"dataframe\">\n",
       "  <thead>\n",
       "    <tr style=\"text-align: right;\">\n",
       "      <th></th>\n",
       "      <th>8cat_1</th>\n",
       "      <th>8cat_2</th>\n",
       "      <th>8cat_3</th>\n",
       "      <th>8cat_4</th>\n",
       "      <th>8cat_5</th>\n",
       "      <th>8cat_6</th>\n",
       "      <th>8cat_7</th>\n",
       "      <th>8cat_8</th>\n",
       "      <th>8cat_9</th>\n",
       "      <th>8cat_10</th>\n",
       "      <th>...</th>\n",
       "      <th>11cat_39</th>\n",
       "      <th>11cat_40</th>\n",
       "      <th>11cat_41</th>\n",
       "      <th>11cat_42</th>\n",
       "      <th>11cat_43</th>\n",
       "      <th>11cat_44</th>\n",
       "      <th>save_8</th>\n",
       "      <th>save_9</th>\n",
       "      <th>save_10</th>\n",
       "      <th>save_11</th>\n",
       "    </tr>\n",
       "  </thead>\n",
       "  <tbody>\n",
       "    <tr>\n",
       "      <th>0</th>\n",
       "      <td>0.000000</td>\n",
       "      <td>0.000000</td>\n",
       "      <td>0.000000</td>\n",
       "      <td>0</td>\n",
       "      <td>0.0</td>\n",
       "      <td>0.0</td>\n",
       "      <td>0.0</td>\n",
       "      <td>0.0</td>\n",
       "      <td>0.0</td>\n",
       "      <td>0.000000</td>\n",
       "      <td>...</td>\n",
       "      <td>0.0</td>\n",
       "      <td>0.000000</td>\n",
       "      <td>0.0</td>\n",
       "      <td>0.0</td>\n",
       "      <td>0.0</td>\n",
       "      <td>0.0</td>\n",
       "      <td>23.754469</td>\n",
       "      <td>10.231237</td>\n",
       "      <td>11.550414</td>\n",
       "      <td>11.534104</td>\n",
       "    </tr>\n",
       "    <tr>\n",
       "      <th>1</th>\n",
       "      <td>0.000000</td>\n",
       "      <td>0.057330</td>\n",
       "      <td>14.453830</td>\n",
       "      <td>0</td>\n",
       "      <td>0.0</td>\n",
       "      <td>0.0</td>\n",
       "      <td>0.0</td>\n",
       "      <td>0.0</td>\n",
       "      <td>0.0</td>\n",
       "      <td>0.000000</td>\n",
       "      <td>...</td>\n",
       "      <td>0.0</td>\n",
       "      <td>0.000000</td>\n",
       "      <td>0.0</td>\n",
       "      <td>0.0</td>\n",
       "      <td>0.0</td>\n",
       "      <td>0.0</td>\n",
       "      <td>20.373181</td>\n",
       "      <td>4.357432</td>\n",
       "      <td>5.494219</td>\n",
       "      <td>7.263291</td>\n",
       "    </tr>\n",
       "    <tr>\n",
       "      <th>2</th>\n",
       "      <td>0.000000</td>\n",
       "      <td>5.875224</td>\n",
       "      <td>0.000000</td>\n",
       "      <td>0</td>\n",
       "      <td>0.0</td>\n",
       "      <td>0.0</td>\n",
       "      <td>0.0</td>\n",
       "      <td>0.0</td>\n",
       "      <td>0.0</td>\n",
       "      <td>2.231255</td>\n",
       "      <td>...</td>\n",
       "      <td>0.0</td>\n",
       "      <td>0.000000</td>\n",
       "      <td>0.0</td>\n",
       "      <td>0.0</td>\n",
       "      <td>0.0</td>\n",
       "      <td>0.0</td>\n",
       "      <td>21.384622</td>\n",
       "      <td>5.526825</td>\n",
       "      <td>2.802755</td>\n",
       "      <td>7.526378</td>\n",
       "    </tr>\n",
       "    <tr>\n",
       "      <th>3</th>\n",
       "      <td>0.000000</td>\n",
       "      <td>0.000000</td>\n",
       "      <td>0.199589</td>\n",
       "      <td>0</td>\n",
       "      <td>0.0</td>\n",
       "      <td>0.0</td>\n",
       "      <td>0.0</td>\n",
       "      <td>0.0</td>\n",
       "      <td>0.0</td>\n",
       "      <td>0.000000</td>\n",
       "      <td>...</td>\n",
       "      <td>0.0</td>\n",
       "      <td>0.000000</td>\n",
       "      <td>0.0</td>\n",
       "      <td>0.0</td>\n",
       "      <td>0.0</td>\n",
       "      <td>0.0</td>\n",
       "      <td>14.481022</td>\n",
       "      <td>1.891668</td>\n",
       "      <td>0.000000</td>\n",
       "      <td>0.000000</td>\n",
       "    </tr>\n",
       "    <tr>\n",
       "      <th>4</th>\n",
       "      <td>37.298239</td>\n",
       "      <td>0.000000</td>\n",
       "      <td>0.000000</td>\n",
       "      <td>0</td>\n",
       "      <td>0.0</td>\n",
       "      <td>0.0</td>\n",
       "      <td>0.0</td>\n",
       "      <td>0.0</td>\n",
       "      <td>0.0</td>\n",
       "      <td>0.000000</td>\n",
       "      <td>...</td>\n",
       "      <td>0.0</td>\n",
       "      <td>3.270569</td>\n",
       "      <td>0.0</td>\n",
       "      <td>0.0</td>\n",
       "      <td>0.0</td>\n",
       "      <td>0.0</td>\n",
       "      <td>68.255120</td>\n",
       "      <td>26.417586</td>\n",
       "      <td>57.058696</td>\n",
       "      <td>38.581924</td>\n",
       "    </tr>\n",
       "  </tbody>\n",
       "</table>\n",
       "<p>5 rows × 180 columns</p>\n",
       "</div>"
      ],
      "text/plain": [
       "      8cat_1    8cat_2     8cat_3  8cat_4  8cat_5  8cat_6  8cat_7  8cat_8  \\\n",
       "0   0.000000  0.000000   0.000000       0     0.0     0.0     0.0     0.0   \n",
       "1   0.000000  0.057330  14.453830       0     0.0     0.0     0.0     0.0   \n",
       "2   0.000000  5.875224   0.000000       0     0.0     0.0     0.0     0.0   \n",
       "3   0.000000  0.000000   0.199589       0     0.0     0.0     0.0     0.0   \n",
       "4  37.298239  0.000000   0.000000       0     0.0     0.0     0.0     0.0   \n",
       "\n",
       "   8cat_9   8cat_10    ...      11cat_39  11cat_40  11cat_41  11cat_42  \\\n",
       "0     0.0  0.000000    ...           0.0  0.000000       0.0       0.0   \n",
       "1     0.0  0.000000    ...           0.0  0.000000       0.0       0.0   \n",
       "2     0.0  2.231255    ...           0.0  0.000000       0.0       0.0   \n",
       "3     0.0  0.000000    ...           0.0  0.000000       0.0       0.0   \n",
       "4     0.0  0.000000    ...           0.0  3.270569       0.0       0.0   \n",
       "\n",
       "   11cat_43  11cat_44     save_8     save_9    save_10    save_11  \n",
       "0       0.0       0.0  23.754469  10.231237  11.550414  11.534104  \n",
       "1       0.0       0.0  20.373181   4.357432   5.494219   7.263291  \n",
       "2       0.0       0.0  21.384622   5.526825   2.802755   7.526378  \n",
       "3       0.0       0.0  14.481022   1.891668   0.000000   0.000000  \n",
       "4       0.0       0.0  68.255120  26.417586  57.058696  38.581924  \n",
       "\n",
       "[5 rows x 180 columns]"
      ]
     },
     "execution_count": 83,
     "metadata": {},
     "output_type": "execute_result"
    }
   ],
   "source": [
    "order_bycat.head()"
   ]
  },
  {
   "cell_type": "code",
   "execution_count": 89,
   "metadata": {
    "collapsed": true,
    "scrolled": true
   },
   "outputs": [],
   "source": [
    "selected_cat[\"sum8\"]=order_bycat[list_8].sum(axis=1)-order_bycat[select_list8].sum(axis=1)\n",
    "selected_cat[\"sum9\"]=order_bycat[list_9].sum(axis=1)-order_bycat[select_list9].sum(axis=1)\n",
    "selected_cat[\"sum10\"]=order_bycat[list_10].sum(axis=1)-order_bycat[select_list10].sum(axis=1)\n",
    "selected_cat[\"sum11\"]=order_bycat[list_11].sum(axis=1)-order_bycat[select_list11].sum(axis=1)"
   ]
  },
  {
   "cell_type": "code",
   "execution_count": 90,
   "metadata": {
    "collapsed": true
   },
   "outputs": [],
   "source": [
    "df=pd.concat([df1,df2,selected_cat],axis=1)"
   ]
  },
  {
   "cell_type": "code",
   "execution_count": 91,
   "metadata": {
    "collapsed": true
   },
   "outputs": [
    {
     "data": {
      "text/plain": [
       "array(['uid', 'age', 'sex', 'limit', 'time-11', 'time-12', 'pay_11',\n",
       "       'pay_12', 'loan_8', 'loan_9', 'loan_10', 'loan_11', 'click_wrk_8',\n",
       "       'click_wrk_9', 'click_wrk_10', 'click_wrk_11', 'click_afterwrk_8',\n",
       "       'click_afterwrk_9', 'click_afterwrk_10', 'click_afterwrk_11',\n",
       "       'Unnamed: 0', '8cat_1', '8cat_3', '8cat_6', '8cat_7', '8cat_10',\n",
       "       '8cat_11', '8cat_13', '8cat_14', '8cat_15', '8cat_18', '8cat_21',\n",
       "       '8cat_23', '8cat_26', '8cat_33', '8cat_35', '8cat_36', '9cat_1',\n",
       "       '9cat_3', '9cat_6', '9cat_7', '9cat_10', '9cat_11', '9cat_13',\n",
       "       '9cat_14', '9cat_15', '9cat_18', '9cat_21', '9cat_23', '9cat_26',\n",
       "       '9cat_33', '9cat_35', '9cat_36', '10cat_1', '10cat_3', '10cat_6',\n",
       "       '10cat_7', '10cat_10', '10cat_11', '10cat_13', '10cat_14',\n",
       "       '10cat_15', '10cat_18', '10cat_21', '10cat_23', '10cat_26',\n",
       "       '10cat_33', '10cat_35', '10cat_36', '11cat_1', '11cat_3', '11cat_6',\n",
       "       '11cat_7', '11cat_10', '11cat_11', '11cat_13', '11cat_14',\n",
       "       '11cat_15', '11cat_18', '11cat_21', '11cat_23', '11cat_26',\n",
       "       '11cat_33', '11cat_35', '11cat_36', 'save_8', 'save_9', 'save_10',\n",
       "       'save_11', 'sum8', 'sum9', 'sum10', 'sum11'], dtype=object)"
      ]
     },
     "execution_count": 91,
     "metadata": {},
     "output_type": "execute_result"
    }
   ],
   "source": [
    "df=df.fillna(0)\n",
    "df.columns.values"
   ]
  },
  {
   "cell_type": "code",
   "execution_count": 94,
   "metadata": {
    "collapsed": true
   },
   "outputs": [],
   "source": [
    "train_columns=['uid', 'age', 'sex', 'limit', 'time-11', 'pay_11',\n",
    "       'loan_8', 'loan_9', 'loan_10', 'click_wrk_8',\n",
    "       'click_wrk_9', 'click_wrk_10', 'click_afterwrk_8',\n",
    "       'click_afterwrk_9', 'click_afterwrk_10', '8cat_1', '8cat_3', '8cat_6', '8cat_7', '8cat_10',\n",
    "       '8cat_11', '8cat_13', '8cat_14', '8cat_15', '8cat_18', '8cat_21',\n",
    "       '8cat_23', '8cat_26', '8cat_33', '8cat_35', '8cat_36', '9cat_1',\n",
    "       '9cat_3', '9cat_6', '9cat_7', '9cat_10', '9cat_11', '9cat_13',\n",
    "       '9cat_14', '9cat_15', '9cat_18', '9cat_21', '9cat_23', '9cat_26',\n",
    "       '9cat_33', '9cat_35', '9cat_36', '10cat_1', '10cat_3', '10cat_6',\n",
    "       '10cat_7', '10cat_10', '10cat_11', '10cat_13', '10cat_14',\n",
    "       '10cat_15', '10cat_18', '10cat_21', '10cat_23', '10cat_26',\n",
    "       '10cat_33', '10cat_35', '10cat_36', 'save_8', 'save_9', 'save_10',\n",
    "       'sum8', 'sum9', 'sum10']\n",
    "test_columns=['uid', 'age', 'sex', 'limit', 'time-12', \n",
    "       'pay_12', 'loan_9', 'loan_10', 'loan_11', \n",
    "       'click_wrk_9', 'click_wrk_10', 'click_wrk_11', \n",
    "       'click_afterwrk_9', 'click_afterwrk_10', 'click_afterwrk_11', '9cat_1',\n",
    "       '9cat_3', '9cat_6', '9cat_7', '9cat_10', '9cat_11', '9cat_13',\n",
    "       '9cat_14', '9cat_15', '9cat_18', '9cat_21', '9cat_23', '9cat_26',\n",
    "       '9cat_33', '9cat_35', '9cat_36', '10cat_1', '10cat_3', '10cat_6',\n",
    "       '10cat_7', '10cat_10', '10cat_11', '10cat_13', '10cat_14',\n",
    "       '10cat_15', '10cat_18', '10cat_21', '10cat_23', '10cat_26',\n",
    "       '10cat_33', '10cat_35', '10cat_36', '11cat_1', '11cat_3', '11cat_6',\n",
    "       '11cat_7', '11cat_10', '11cat_11', '11cat_13', '11cat_14',\n",
    "       '11cat_15', '11cat_18', '11cat_21', '11cat_23', '11cat_26',\n",
    "       '11cat_33', '11cat_35', '11cat_36', 'save_9', 'save_10',\n",
    "       'save_11',  'sum9', 'sum10', 'sum11']"
   ]
  },
  {
   "cell_type": "code",
   "execution_count": 95,
   "metadata": {},
   "outputs": [
    {
     "name": "stdout",
     "output_type": "stream",
     "text": [
      "69\n",
      "69\n"
     ]
    }
   ],
   "source": [
    "print(len(train_columns))\n",
    "print(len(test_columns))"
   ]
  },
  {
   "cell_type": "code",
   "execution_count": 102,
   "metadata": {
    "collapsed": true
   },
   "outputs": [],
   "source": [
    "df_model2=df.drop(df.index[list])"
   ]
  },
  {
   "cell_type": "code",
   "execution_count": 103,
   "metadata": {
    "collapsed": true
   },
   "outputs": [],
   "source": [
    "X=df_model2[train_columns]\n",
    "Y=df_model2[\"loan_11\"]\n",
    "X = np.asarray(X)\n",
    "Y = np.asarray(Y)"
   ]
  },
  {
   "cell_type": "code",
   "execution_count": 135,
   "metadata": {
    "collapsed": true
   },
   "outputs": [],
   "source": [
    "#offset = int(X.shape[0] * 0.9)\n",
    "#X_train, Y_train = X[:offset], Y[:offset]\n",
    "#X_test, Y_test = X[offset:], Y[offset:]"
   ]
  },
  {
   "cell_type": "code",
   "execution_count": 136,
   "metadata": {
    "collapsed": true
   },
   "outputs": [],
   "source": [
    "def model():\n",
    "\t# create model\n",
    "    model = Sequential()\n",
    "    model.add(Dense(69, input_dim=69, kernel_initializer='normal', activation='relu'))\n",
    "    model.add(Dense(32,kernel_initializer='normal',activation='relu'))\n",
    "    model.add(Dense(1, kernel_initializer='normal'))\n",
    "    # Compile model\n",
    "    model.compile(loss='mean_squared_error', optimizer='adam')\n",
    "    return model"
   ]
  },
  {
   "cell_type": "code",
   "execution_count": 138,
   "metadata": {
    "collapsed": true
   },
   "outputs": [],
   "source": [
    "\n",
    "#seed=7\n",
    "#np.random.seed(seed)\n",
    "#estimator=KerasRegressor(build_fn=model,nb_epoch=100,batch_size=5,verbose=0)\n",
    "#estimator.fit(X_train,Y_train)\n",
    "#mse = mean_squared_error(Y_test, estimator.predict(X_test))\n",
    "#print(\"MSE: %.4f\" % mse)"
   ]
  },
  {
   "cell_type": "code",
   "execution_count": null,
   "metadata": {
    "collapsed": true
   },
   "outputs": [],
   "source": []
  },
  {
   "cell_type": "code",
   "execution_count": 106,
   "metadata": {
    "collapsed": true
   },
   "outputs": [],
   "source": [
    "empty=pd.read_csv(\"empty.csv\",header=None)\n",
    "X_test = df[test_columns]\n",
    "X_test=np.asarray(X_test)\n",
    "loan=estimator.predict(X_test)\n",
    "for i in range(90993):\n",
    "    if loan[i]<0:\n",
    "        loan[i]=0\n",
    "empty[\"loan_sum\"]=loan\n",
    "empty.to_csv(\"upload.csv\",sep=\",\")"
   ]
  },
  {
   "cell_type": "code",
   "execution_count": null,
   "metadata": {
    "collapsed": true
   },
   "outputs": [],
   "source": []
  },
  {
   "cell_type": "markdown",
   "metadata": {},
   "source": [
    "### model 3 gradient boosting regression and Randomforest Regression with all features"
   ]
  },
  {
   "cell_type": "code",
   "execution_count": 2,
   "metadata": {
    "collapsed": true
   },
   "outputs": [],
   "source": [
    "import numpy as np\n",
    "import matplotlib.pyplot as plt\n",
    "from sklearn import ensemble\n",
    "from sklearn import datasets\n",
    "from sklearn.utils import shuffle\n",
    "from sklearn.metrics import mean_squared_error\n"
   ]
  },
  {
   "cell_type": "code",
   "execution_count": 3,
   "metadata": {},
   "outputs": [
    {
     "data": {
      "text/plain": [
       "array(['uid', 'age', 'sex', 'limit', 'time-11', 'time-12', 'pay_11',\n",
       "       'pay_12', 'loan_8', 'loan_9', 'loan_10', 'loan_11', 'click_wrk_8',\n",
       "       'click_wrk_9', 'click_wrk_10', 'click_wrk_11', 'click_afterwrk_8',\n",
       "       'click_afterwrk_9', 'click_afterwrk_10', 'click_afterwrk_11',\n",
       "       'Unnamed: 0', 'Unnamed: 0.1', '8cat_1', '8cat_2', '8cat_3',\n",
       "       '8cat_5', '8cat_6', '8cat_7', '8cat_9', '8cat_10', '8cat_11',\n",
       "       '8cat_12', '8cat_13', '8cat_14', '8cat_15', '8cat_16', '8cat_17',\n",
       "       '8cat_18', '8cat_19', '8cat_20', '8cat_21', '8cat_22', '8cat_23',\n",
       "       '8cat_25', '8cat_26', '8cat_28', '8cat_31', '8cat_32', '8cat_33',\n",
       "       '8cat_34', '8cat_35', '8cat_36', '8cat_38', '8cat_39', '8cat_40',\n",
       "       '8cat_43', '8cat_44', '9cat_1', '9cat_2', '9cat_3', '9cat_5',\n",
       "       '9cat_6', '9cat_7', '9cat_9', '9cat_10', '9cat_11', '9cat_12',\n",
       "       '9cat_13', '9cat_14', '9cat_15', '9cat_16', '9cat_17', '9cat_18',\n",
       "       '9cat_19', '9cat_20', '9cat_21', '9cat_22', '9cat_23', '9cat_25',\n",
       "       '9cat_26', '9cat_28', '9cat_31', '9cat_32', '9cat_33', '9cat_34',\n",
       "       '9cat_35', '9cat_36', '9cat_38', '9cat_39', '9cat_40', '9cat_43',\n",
       "       '9cat_44', '10cat_1', '10cat_2', '10cat_3', '10cat_5', '10cat_6',\n",
       "       '10cat_7', '10cat_9', '10cat_10', '10cat_11', '10cat_12',\n",
       "       '10cat_13', '10cat_14', '10cat_15', '10cat_16', '10cat_17',\n",
       "       '10cat_18', '10cat_19', '10cat_20', '10cat_21', '10cat_22',\n",
       "       '10cat_23', '10cat_25', '10cat_26', '10cat_28', '10cat_31',\n",
       "       '10cat_32', '10cat_33', '10cat_34', '10cat_35', '10cat_36',\n",
       "       '10cat_38', '10cat_39', '10cat_40', '10cat_43', '10cat_44',\n",
       "       '11cat_1', '11cat_2', '11cat_3', '11cat_5', '11cat_6', '11cat_7',\n",
       "       '11cat_9', '11cat_10', '11cat_11', '11cat_12', '11cat_13',\n",
       "       '11cat_14', '11cat_15', '11cat_16', '11cat_17', '11cat_18',\n",
       "       '11cat_19', '11cat_20', '11cat_21', '11cat_22', '11cat_23',\n",
       "       '11cat_25', '11cat_26', '11cat_28', '11cat_31', '11cat_32',\n",
       "       '11cat_33', '11cat_34', '11cat_35', '11cat_36', '11cat_38',\n",
       "       '11cat_39', '11cat_40', '11cat_43', '11cat_44', 'save_8', 'save_9',\n",
       "       'save_10', 'save_11', 'cat8_sum', 'cat9_sum', 'cat10_sum',\n",
       "       'cat11_sum'], dtype=object)"
      ]
     },
     "execution_count": 3,
     "metadata": {},
     "output_type": "execute_result"
    }
   ],
   "source": [
    "### load data\n",
    "df1=pd.read_csv(\"df_user_loan.csv\")\n",
    "df2=pd.read_csv(\"df_click.csv\")\n",
    "df3=pd.read_csv(\"order_bycat_sum.csv\")\n",
    "df=pd.concat([df1,df2,df3],axis=1)\n",
    "df=df.fillna(0)\n",
    "df.columns.values"
   ]
  },
  {
   "cell_type": "code",
   "execution_count": 4,
   "metadata": {
    "collapsed": true
   },
   "outputs": [],
   "source": [
    "train_columns=['uid', 'age', 'sex', 'limit', 'time-11', 'pay_11',\n",
    "      'loan_8', 'loan_9', 'loan_10','click_wrk_8',\n",
    "       'click_wrk_9', 'click_wrk_10', 'click_afterwrk_8',\n",
    "       'click_afterwrk_9', 'click_afterwrk_10', \n",
    "       '8cat_1', '8cat_2', '8cat_3',\n",
    "       '8cat_5', '8cat_6', '8cat_7', '8cat_9', '8cat_10', '8cat_11',\n",
    "       '8cat_12', '8cat_13', '8cat_14', '8cat_15', '8cat_16', '8cat_17',\n",
    "       '8cat_18', '8cat_19', '8cat_20', '8cat_21', '8cat_22', '8cat_23',\n",
    "       '8cat_25', '8cat_26', '8cat_28', '8cat_31', '8cat_32', '8cat_33',\n",
    "       '8cat_34', '8cat_35', '8cat_36', '8cat_38', '8cat_39', '8cat_40',\n",
    "       '8cat_43', '8cat_44', '9cat_1', '9cat_2', '9cat_3', '9cat_5',\n",
    "       '9cat_6', '9cat_7', '9cat_9', '9cat_10', '9cat_11', '9cat_12',\n",
    "       '9cat_13', '9cat_14', '9cat_15', '9cat_16', '9cat_17', '9cat_18',\n",
    "       '9cat_19', '9cat_20', '9cat_21', '9cat_22', '9cat_23', '9cat_25',\n",
    "       '9cat_26', '9cat_28', '9cat_31', '9cat_32', '9cat_33', '9cat_34',\n",
    "       '9cat_35', '9cat_36', '9cat_38', '9cat_39', '9cat_40', '9cat_43',\n",
    "       '9cat_44', '10cat_1', '10cat_2', '10cat_3', '10cat_5', '10cat_6',\n",
    "       '10cat_7', '10cat_9', '10cat_10', '10cat_11', '10cat_12',\n",
    "       '10cat_13', '10cat_14', '10cat_15', '10cat_16', '10cat_17',\n",
    "       '10cat_18', '10cat_19', '10cat_20', '10cat_21', '10cat_22',\n",
    "       '10cat_23', '10cat_25', '10cat_26', '10cat_28', '10cat_31',\n",
    "       '10cat_32', '10cat_33', '10cat_34', '10cat_35', '10cat_36',\n",
    "       '10cat_38', '10cat_39', '10cat_40', '10cat_43', '10cat_44',\n",
    "       'save_8', 'save_9','save_10', 'cat8_sum', 'cat9_sum', 'cat10_sum']\n",
    "test_columns=['uid', 'age', 'sex', 'limit', 'time-12', 'pay_12', 'loan_9', 'loan_10', 'loan_11', \n",
    "       'click_wrk_9', 'click_wrk_10', 'click_wrk_11', 'click_afterwrk_9', 'click_afterwrk_10', 'click_afterwrk_11','9cat_1', '9cat_2', '9cat_3', '9cat_5',\n",
    "       '9cat_6', '9cat_7', '9cat_9', '9cat_10', '9cat_11', '9cat_12',\n",
    "       '9cat_13', '9cat_14', '9cat_15', '9cat_16', '9cat_17', '9cat_18',\n",
    "       '9cat_19', '9cat_20', '9cat_21', '9cat_22', '9cat_23', '9cat_25',\n",
    "       '9cat_26', '9cat_28', '9cat_31', '9cat_32', '9cat_33', '9cat_34',\n",
    "       '9cat_35', '9cat_36', '9cat_38', '9cat_39', '9cat_40', '9cat_43',\n",
    "       '9cat_44', '10cat_1', '10cat_2', '10cat_3', '10cat_5', '10cat_6',\n",
    "       '10cat_7', '10cat_9', '10cat_10', '10cat_11', '10cat_12',\n",
    "       '10cat_13', '10cat_14', '10cat_15', '10cat_16', '10cat_17',\n",
    "       '10cat_18', '10cat_19', '10cat_20', '10cat_21', '10cat_22',\n",
    "       '10cat_23', '10cat_25', '10cat_26', '10cat_28', '10cat_31',\n",
    "       '10cat_32', '10cat_33', '10cat_34', '10cat_35', '10cat_36',\n",
    "       '10cat_38', '10cat_39', '10cat_40', '10cat_43', '10cat_44',\n",
    "       '11cat_1', '11cat_2', '11cat_3', '11cat_5', '11cat_6', '11cat_7',\n",
    "       '11cat_9', '11cat_10', '11cat_11', '11cat_12', '11cat_13',\n",
    "       '11cat_14', '11cat_15', '11cat_16', '11cat_17', '11cat_18',\n",
    "       '11cat_19', '11cat_20', '11cat_21', '11cat_22', '11cat_23',\n",
    "       '11cat_25', '11cat_26', '11cat_28', '11cat_31', '11cat_32',\n",
    "       '11cat_33', '11cat_34', '11cat_35', '11cat_36', '11cat_38',\n",
    "       '11cat_39', '11cat_40', '11cat_43', '11cat_44', 'save_9',\n",
    "       'save_10', 'save_11', 'cat9_sum', 'cat10_sum',\n",
    "       'cat11_sum']"
   ]
  },
  {
   "cell_type": "code",
   "execution_count": 5,
   "metadata": {
    "scrolled": true
   },
   "outputs": [
    {
     "name": "stdout",
     "output_type": "stream",
     "text": [
      "126\n",
      "126\n"
     ]
    }
   ],
   "source": [
    "print(len(train_columns))\n",
    "print(len(test_columns))"
   ]
  },
  {
   "cell_type": "code",
   "execution_count": 6,
   "metadata": {},
   "outputs": [
    {
     "data": {
      "text/plain": [
       "8855"
      ]
     },
     "execution_count": 6,
     "metadata": {},
     "output_type": "execute_result"
    }
   ],
   "source": [
    "ls_wrong=[]\n",
    "for i in range(90993):\n",
    "    if df.iloc[i][\"loan_11\"] > 8.5:\n",
    "        ls_wrong.append(i)\n",
    "len(ls_wrong)"
   ]
  },
  {
   "cell_type": "code",
   "execution_count": 7,
   "metadata": {
    "collapsed": true
   },
   "outputs": [],
   "source": [
    "df_model3=df.drop(df.index[ls_wrong])"
   ]
  },
  {
   "cell_type": "code",
   "execution_count": 18,
   "metadata": {
    "collapsed": true
   },
   "outputs": [],
   "source": [
    "X=df_model3[train_columns]\n",
    "Y=df_model3[\"loan_11\"]\n",
    "X = np.asarray(X)\n",
    "Y = np.asarray(Y)"
   ]
  },
  {
   "cell_type": "code",
   "execution_count": 19,
   "metadata": {
    "collapsed": true
   },
   "outputs": [],
   "source": [
    "offset = int(X.shape[0] * 0.9)\n",
    "X_train, Y_train = X[:offset], Y[:offset]\n",
    "X_test, Y_test = X[offset:], Y[offset:]"
   ]
  },
  {
   "cell_type": "code",
   "execution_count": 24,
   "metadata": {},
   "outputs": [
    {
     "data": {
      "text/plain": [
       "GradientBoostingRegressor(alpha=0.9, criterion='friedman_mse', init=None,\n",
       "             learning_rate=0.01, loss='ls', max_depth=4, max_features=None,\n",
       "             max_leaf_nodes=None, min_impurity_split=1e-07,\n",
       "             min_samples_leaf=1, min_samples_split=2,\n",
       "             min_weight_fraction_leaf=0.0, n_estimators=3000,\n",
       "             presort='auto', random_state=None, subsample=1.0, verbose=0,\n",
       "             warm_start=False)"
      ]
     },
     "execution_count": 24,
     "metadata": {},
     "output_type": "execute_result"
    }
   ],
   "source": [
    "params = {'n_estimators': 3000, 'max_depth': 4, 'min_samples_split': 2,\n",
    "          'learning_rate': 0.01, 'loss': 'ls'}\n",
    "GBR = ensemble.GradientBoostingRegressor(**params)\n",
    "\n",
    "GBR.fit(X, Y)\n",
    "#GBR.fit(X_train, Y_train)\n",
    "#mse = mean_squared_error(Y_test, GBR.predict(X_test))\n",
    "#print(\"MSE: %.4f\" % mse)"
   ]
  },
  {
   "cell_type": "code",
   "execution_count": 21,
   "metadata": {},
   "outputs": [
    {
     "data": {
      "text/plain": [
       "73924"
      ]
     },
     "execution_count": 21,
     "metadata": {},
     "output_type": "execute_result"
    }
   ],
   "source": [
    "len(X_train)"
   ]
  },
  {
   "cell_type": "code",
   "execution_count": 12,
   "metadata": {
    "collapsed": true,
    "scrolled": false
   },
   "outputs": [],
   "source": [
    "params = {'max_depth':4}\n",
    "RFR = ensemble.RandomForestRegressor(**params)\n",
    "\n",
    "#clf.fit(X, Y)\n",
    "#clf_RFR.fit(X_train, Y_train)\n",
    "#mse = mean_squared_error(Y_test, clf.predict(X_test))\n",
    "#print(\"MSE: %.4f\" % mse)"
   ]
  },
  {
   "cell_type": "code",
   "execution_count": 13,
   "metadata": {
    "collapsed": true
   },
   "outputs": [],
   "source": [
    "from sklearn.pipeline import make_pipeline\n",
    "from sklearn.preprocessing import RobustScaler\n",
    "from sklearn.linear_model import Lasso\n",
    "lasso = make_pipeline(RobustScaler(), Lasso(alpha =0.0005, random_state=1))"
   ]
  },
  {
   "cell_type": "code",
   "execution_count": null,
   "metadata": {
    "collapsed": true
   },
   "outputs": [],
   "source": []
  },
  {
   "cell_type": "code",
   "execution_count": 25,
   "metadata": {
    "collapsed": true
   },
   "outputs": [],
   "source": [
    "empty=pd.read_csv(\"empty.csv\",header=None)\n",
    "X_test = df[test_columns]\n",
    "X_test=np.asarray(X_test)\n",
    "loan=GBR.predict(X_test)\n",
    "for i in range(90993):\n",
    "    if loan[i]<0:\n",
    "        loan[i]=0\n",
    "empty[\"loan_sum\"]=loan\n",
    "empty.to_csv(\"upload.csv\",sep=\",\")"
   ]
  },
  {
   "cell_type": "markdown",
   "metadata": {},
   "source": [
    "### model 4 stacked regression with RandomForest, GradientBoosting, Kernel_Ridge Regression"
   ]
  },
  {
   "cell_type": "code",
   "execution_count": 14,
   "metadata": {
    "collapsed": true
   },
   "outputs": [],
   "source": [
    "from sklearn.base import BaseEstimator, TransformerMixin, RegressorMixin, clone\n",
    "from sklearn.model_selection import KFold, cross_val_score, train_test_split\n",
    "from sklearn.metrics import mean_squared_error"
   ]
  },
  {
   "cell_type": "code",
   "execution_count": null,
   "metadata": {
    "collapsed": true
   },
   "outputs": [],
   "source": []
  },
  {
   "cell_type": "code",
   "execution_count": 15,
   "metadata": {
    "collapsed": true
   },
   "outputs": [],
   "source": [
    "class StackingAveragedModels(BaseEstimator, RegressorMixin, TransformerMixin):\n",
    "    def __init__(self, base_models, meta_model, n_folds=5):\n",
    "        self.base_models = base_models\n",
    "        self.meta_model = meta_model\n",
    "        self.n_folds = n_folds\n",
    "   \n",
    "    # We again fit the data on clones of the original models\n",
    "    def fit(self, X, y):\n",
    "        self.base_models_ = [list() for x in self.base_models]\n",
    "        self.meta_model_ = clone(self.meta_model)\n",
    "        kfold = KFold(n_splits=self.n_folds, shuffle=True, random_state=156)\n",
    "        \n",
    "        # Train cloned base models then create out-of-fold predictions\n",
    "        # that are needed to train the cloned meta-model\n",
    "        out_of_fold_predictions = np.zeros((X.shape[0], len(self.base_models)))\n",
    "        for i, model in enumerate(self.base_models):\n",
    "            for train_index, holdout_index in kfold.split(X, y):\n",
    "                instance = clone(model)\n",
    "                self.base_models_[i].append(instance)\n",
    "                instance.fit(X[train_index], y[train_index])\n",
    "                y_pred = instance.predict(X[holdout_index])\n",
    "                out_of_fold_predictions[holdout_index, i] = y_pred\n",
    "                \n",
    "        # Now train the cloned  meta-model using the out-of-fold predictions as new feature\n",
    "        self.meta_model_.fit(out_of_fold_predictions, y)\n",
    "        return self\n",
    "   \n",
    "    #Do the predictions of all base models on the test data and use the averaged predictions as \n",
    "    #meta-features for the final prediction which is done by the meta-model\n",
    "    def predict(self, X):\n",
    "        meta_features = np.column_stack([\n",
    "            np.column_stack([model.predict(X) for model in base_models]).mean(axis=1)\n",
    "            for base_models in self.base_models_ ])\n",
    "        return self.meta_model_.predict(meta_features)"
   ]
  },
  {
   "cell_type": "code",
   "execution_count": 16,
   "metadata": {
    "collapsed": true
   },
   "outputs": [],
   "source": [
    "stacked_averaged_models = StackingAveragedModels(base_models = (RFR,GBR),\n",
    "                                                 meta_model = lasso)"
   ]
  },
  {
   "cell_type": "code",
   "execution_count": 1,
   "metadata": {},
   "outputs": [],
   "source": [
    "stacked_averaged_models.fit(X_train,Y_train)\n",
    "mse = mean_squared_error(Y_test, stacked_averaged_models.predict(X_test))\n",
    "print(\"MSE: %.4f\" % mse)\n"
   ]
  },
  {
   "cell_type": "code",
   "execution_count": null,
   "metadata": {
    "collapsed": true
   },
   "outputs": [],
   "source": [
    "stacked_averaged_models.fit(X,Y)\n",
    "empty=pd.read_csv(\"empty.csv\",header=None)\n",
    "X_12 = df[test_columns]\n",
    "X_12=np.asarray(X_12)\n",
    "loan=clf.predict(X_12)\n",
    "for i in range(90993):\n",
    "    if loan[i]<0:\n",
    "        loan[i]=0\n",
    "empty[\"loan_sum\"]=loan\n",
    "empty.to_csv(\"upload.csv\",sep=\",\")"
   ]
  },
  {
   "cell_type": "code",
   "execution_count": null,
   "metadata": {
    "collapsed": true
   },
   "outputs": [],
   "source": []
  }
 ],
 "metadata": {
  "kernelspec": {
   "display_name": "Python 3",
   "language": "python",
   "name": "python3"
  },
  "language_info": {
   "codemirror_mode": {
    "name": "ipython",
    "version": 3
   },
   "file_extension": ".py",
   "mimetype": "text/x-python",
   "name": "python",
   "nbconvert_exporter": "python",
   "pygments_lexer": "ipython3",
   "version": "3.8.5"
  }
 },
 "nbformat": 4,
 "nbformat_minor": 2
}
